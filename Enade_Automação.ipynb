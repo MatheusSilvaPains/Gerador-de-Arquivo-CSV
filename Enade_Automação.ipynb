{
  "cells": [
    {
      "cell_type": "markdown",
      "metadata": {
        "id": "view-in-github",
        "colab_type": "text"
      },
      "source": [
        "<a href=\"https://colab.research.google.com/github/MatheusSilvaPains/Gerador-de-Arquivo-CSV/blob/main/Enade_Automa%C3%A7%C3%A3o.ipynb\" target=\"_parent\"><img src=\"https://colab.research.google.com/assets/colab-badge.svg\" alt=\"Open In Colab\"/></a>"
      ]
    },
    {
      "cell_type": "code",
      "source": [
        "import pandas as pd\n",
        "from google.colab import files\n",
        "\n",
        "# Nome da planilha raiz no diretório\n",
        "raiz_file_name = \"/content/Dados dos Alunos.xlsx\"\n",
        "\n",
        "# Ler a planilha raiz\n",
        "try:\n",
        "    raiz_df = pd.read_excel(raiz_file_name, dtype={'CPF':str})\n",
        "    print(f\"Planilha raiz '{raiz_file_name}' carregada com sucesso.\")\n",
        "except FileNotFoundError:\n",
        "    print(f\"Arquivo '{raiz_file_name}' não encontrado no diretório.\")"
      ],
      "metadata": {
        "id": "vptHm58EbxyH",
        "colab": {
          "base_uri": "https://localhost:8080/"
        },
        "outputId": "cc89c488-c4cf-4f0b-a6bf-dad0698c3d30"
      },
      "execution_count": null,
      "outputs": [
        {
          "output_type": "stream",
          "name": "stdout",
          "text": [
            "Planilha raiz '/content/Dados dos Alunos.xlsx' carregada com sucesso.\n"
          ]
        }
      ]
    },
    {
      "cell_type": "code",
      "source": [
        "# Criar uma lista numérica com os nomes das colunas\n",
        "column_names = raiz_df.columns.tolist()\n",
        "\n",
        "# Imprimir a lista numérica com os nomes das colunas\n",
        "print(\"Lista numérica dos nomes das colunas:\")\n",
        "for i, col_name in enumerate(column_names):\n",
        "    print(f\"{i + 1}. {col_name}\")"
      ],
      "metadata": {
        "colab": {
          "base_uri": "https://localhost:8080/"
        },
        "id": "dN41soRJmWag",
        "outputId": "1a975e4f-78a6-48eb-aecd-527a5933e730"
      },
      "execution_count": null,
      "outputs": [
        {
          "output_type": "stream",
          "name": "stdout",
          "text": [
            "Lista numérica dos nomes das colunas:\n",
            "1. ALUNO\n",
            "2. NOME_COMPL\n",
            "3. NOME_SOCIAL\n",
            "4. CONCURSO\n",
            "5. CANDIDATO\n",
            "6. CURSO\n",
            "7. NOME_CURSO\n",
            "8. TURNO\n",
            "9. DESCR_TURNO\n",
            "10. CURRICULO\n",
            "11. SERIE\n",
            "12. DESCR_SERIE\n",
            "13. UNIDADE_ENSINO\n",
            "14. NOME_UE\n",
            "15. ANOCONCL_2G\n",
            "16. FORMAÇÃO ANTERIOR\n",
            "17. TIPO_INGRESSO\n",
            "18. ANO_INGRESSO\n",
            "19. SEM_INGRESSO\n",
            "20. SITUACAO\n",
            "21. GRUPO\n",
            "22. DT_INGRESSO\n",
            "23. MAILBOX\n",
            "24. E_MAIL\n",
            "25. E_MAIL_INTERNO\n",
            "26. CURSO_ANT\n",
            "27. UNIDADE_FISICA\n",
            "28. PESSOA\n",
            "29. ID_PESSOA\n",
            "30. DATA_NASC\n",
            "31. NACIONALIDADE\n",
            "32. NOME_PAI\n",
            "33. NOME_MAE\n",
            "34. SEXO\n",
            "35. EST_CIVIL\n",
            "36. ENDERECO\n",
            "37. END_NUM\n",
            "38. END_COMPL\n",
            "39. BAIRRO\n",
            "40. MUNICIPIO\n",
            "41. UF_SIGLA\n",
            "42. END_PAIS\n",
            "43. CEP\n",
            "44. DDD_FONE\n",
            "45. TELEFONE\n",
            "46. DDD_FONE_CELULAR\n",
            "47. CELULAR\n",
            "48. RG_NUM\n",
            "49. RG_EMISSOR\n",
            "50. RG_UF\n",
            "51. RG_DTEXP\n",
            "52. CPF\n",
            "53. NATURALIDADE\n",
            "54. DIVIDA_BIBLIO\n",
            "55. NECESSIDADE_ESPECIAL\n",
            "56. COR_RACA\n",
            "57. IdAlunoAvaliA\n",
            "58. UsuarioCadastroAluno\n",
            "59. Intake\n",
            "60. DataDeMatricula\n",
            "61. CodigoInternoAlunoIES\n",
            "62. PercentualConclusao\n"
          ]
        }
      ]
    },
    {
      "cell_type": "code",
      "source": [
        "# Solicitar ao usuário o número da coluna desejada\n",
        "coluna_numero = int(input(\"Digite o número da coluna para visualizar os 10 primeiros dados: \"))\n",
        "\n",
        "# Obter o nome da coluna com base no número fornecido\n",
        "coluna_nome = raiz_df.columns[coluna_numero - 1]\n",
        "\n",
        "# Verificar se a coluna existe e exibir os 10 primeiros dados\n",
        "if coluna_nome in raiz_df.columns:\n",
        "    print(f\"Primeiros 10 dados da coluna '{coluna_nome}':\")\n",
        "    print(raiz_df[coluna_nome].head(10))\n",
        "else:\n",
        "    print(\"Número da coluna inválido. Verifique o número e tente novamente.\")"
      ],
      "metadata": {
        "colab": {
          "base_uri": "https://localhost:8080/"
        },
        "id": "Og28Wf47mnHQ",
        "outputId": "2c06d1d4-802b-419c-a4c9-6eadb4c5ebe4"
      },
      "execution_count": null,
      "outputs": [
        {
          "output_type": "stream",
          "name": "stdout",
          "text": [
            "Digite o número da coluna para visualizar os 10 primeiros dados: 52\n",
            "Primeiros 10 dados da coluna 'CPF':\n",
            "0    06406983106\n",
            "1    70560429100\n",
            "2    08621367254\n",
            "3    70900891181\n",
            "4    70896986101\n",
            "5    06040737123\n",
            "6    70348795165\n",
            "7    07833353183\n",
            "8    07664465141\n",
            "9    04101039186\n",
            "Name: CPF, dtype: object\n"
          ]
        }
      ]
    },
    {
      "cell_type": "code",
      "source": [
        "# Solicitar o upload da planilha filha\n",
        "print(\"Por favor, faça o upload da planilha filha.\")\n",
        "uploaded = files.upload()\n",
        "\n",
        "# Obter o nome do arquivo carregado\n",
        "file_name = list(uploaded.keys())[0]\n",
        "\n",
        "# Ler a planilha filha em um DataFrame, garantindo que a coluna 'CPF' seja lida como texto\n",
        "filha_df = pd.read_excel(file_name, dtype={'CPF': str})\n",
        "\n",
        "# Exibir uma mensagem de confirmação\n",
        "print(f\"\\nPlanilha filha '{file_name}' carregada com sucesso.\")\n",
        "\n",
        "# Exibir a lista dos nomes das colunas com numeração\n",
        "print(\"\\nNúmeros e nomes das colunas na planilha filha:\")\n",
        "for i, column in enumerate(filha_df.columns):\n",
        "    print(f\"{i}: {column}\")"
      ],
      "metadata": {
        "colab": {
          "base_uri": "https://localhost:8080/",
          "height": 935
        },
        "id": "nxN16i3eumHW",
        "outputId": "9d216944-c0d2-49e0-e0e0-6cd3557ba863"
      },
      "execution_count": null,
      "outputs": [
        {
          "output_type": "stream",
          "name": "stdout",
          "text": [
            "Por favor, faça o upload da planilha filha.\n"
          ]
        },
        {
          "output_type": "display_data",
          "data": {
            "text/plain": [
              "<IPython.core.display.HTML object>"
            ],
            "text/html": [
              "\n",
              "     <input type=\"file\" id=\"files-a54a08f9-d200-46d9-bc48-3c23ebecd82d\" name=\"files[]\" multiple disabled\n",
              "        style=\"border:none\" />\n",
              "     <output id=\"result-a54a08f9-d200-46d9-bc48-3c23ebecd82d\">\n",
              "      Upload widget is only available when the cell has been executed in the\n",
              "      current browser session. Please rerun this cell to enable.\n",
              "      </output>\n",
              "      <script>// Copyright 2017 Google LLC\n",
              "//\n",
              "// Licensed under the Apache License, Version 2.0 (the \"License\");\n",
              "// you may not use this file except in compliance with the License.\n",
              "// You may obtain a copy of the License at\n",
              "//\n",
              "//      http://www.apache.org/licenses/LICENSE-2.0\n",
              "//\n",
              "// Unless required by applicable law or agreed to in writing, software\n",
              "// distributed under the License is distributed on an \"AS IS\" BASIS,\n",
              "// WITHOUT WARRANTIES OR CONDITIONS OF ANY KIND, either express or implied.\n",
              "// See the License for the specific language governing permissions and\n",
              "// limitations under the License.\n",
              "\n",
              "/**\n",
              " * @fileoverview Helpers for google.colab Python module.\n",
              " */\n",
              "(function(scope) {\n",
              "function span(text, styleAttributes = {}) {\n",
              "  const element = document.createElement('span');\n",
              "  element.textContent = text;\n",
              "  for (const key of Object.keys(styleAttributes)) {\n",
              "    element.style[key] = styleAttributes[key];\n",
              "  }\n",
              "  return element;\n",
              "}\n",
              "\n",
              "// Max number of bytes which will be uploaded at a time.\n",
              "const MAX_PAYLOAD_SIZE = 100 * 1024;\n",
              "\n",
              "function _uploadFiles(inputId, outputId) {\n",
              "  const steps = uploadFilesStep(inputId, outputId);\n",
              "  const outputElement = document.getElementById(outputId);\n",
              "  // Cache steps on the outputElement to make it available for the next call\n",
              "  // to uploadFilesContinue from Python.\n",
              "  outputElement.steps = steps;\n",
              "\n",
              "  return _uploadFilesContinue(outputId);\n",
              "}\n",
              "\n",
              "// This is roughly an async generator (not supported in the browser yet),\n",
              "// where there are multiple asynchronous steps and the Python side is going\n",
              "// to poll for completion of each step.\n",
              "// This uses a Promise to block the python side on completion of each step,\n",
              "// then passes the result of the previous step as the input to the next step.\n",
              "function _uploadFilesContinue(outputId) {\n",
              "  const outputElement = document.getElementById(outputId);\n",
              "  const steps = outputElement.steps;\n",
              "\n",
              "  const next = steps.next(outputElement.lastPromiseValue);\n",
              "  return Promise.resolve(next.value.promise).then((value) => {\n",
              "    // Cache the last promise value to make it available to the next\n",
              "    // step of the generator.\n",
              "    outputElement.lastPromiseValue = value;\n",
              "    return next.value.response;\n",
              "  });\n",
              "}\n",
              "\n",
              "/**\n",
              " * Generator function which is called between each async step of the upload\n",
              " * process.\n",
              " * @param {string} inputId Element ID of the input file picker element.\n",
              " * @param {string} outputId Element ID of the output display.\n",
              " * @return {!Iterable<!Object>} Iterable of next steps.\n",
              " */\n",
              "function* uploadFilesStep(inputId, outputId) {\n",
              "  const inputElement = document.getElementById(inputId);\n",
              "  inputElement.disabled = false;\n",
              "\n",
              "  const outputElement = document.getElementById(outputId);\n",
              "  outputElement.innerHTML = '';\n",
              "\n",
              "  const pickedPromise = new Promise((resolve) => {\n",
              "    inputElement.addEventListener('change', (e) => {\n",
              "      resolve(e.target.files);\n",
              "    });\n",
              "  });\n",
              "\n",
              "  const cancel = document.createElement('button');\n",
              "  inputElement.parentElement.appendChild(cancel);\n",
              "  cancel.textContent = 'Cancel upload';\n",
              "  const cancelPromise = new Promise((resolve) => {\n",
              "    cancel.onclick = () => {\n",
              "      resolve(null);\n",
              "    };\n",
              "  });\n",
              "\n",
              "  // Wait for the user to pick the files.\n",
              "  const files = yield {\n",
              "    promise: Promise.race([pickedPromise, cancelPromise]),\n",
              "    response: {\n",
              "      action: 'starting',\n",
              "    }\n",
              "  };\n",
              "\n",
              "  cancel.remove();\n",
              "\n",
              "  // Disable the input element since further picks are not allowed.\n",
              "  inputElement.disabled = true;\n",
              "\n",
              "  if (!files) {\n",
              "    return {\n",
              "      response: {\n",
              "        action: 'complete',\n",
              "      }\n",
              "    };\n",
              "  }\n",
              "\n",
              "  for (const file of files) {\n",
              "    const li = document.createElement('li');\n",
              "    li.append(span(file.name, {fontWeight: 'bold'}));\n",
              "    li.append(span(\n",
              "        `(${file.type || 'n/a'}) - ${file.size} bytes, ` +\n",
              "        `last modified: ${\n",
              "            file.lastModifiedDate ? file.lastModifiedDate.toLocaleDateString() :\n",
              "                                    'n/a'} - `));\n",
              "    const percent = span('0% done');\n",
              "    li.appendChild(percent);\n",
              "\n",
              "    outputElement.appendChild(li);\n",
              "\n",
              "    const fileDataPromise = new Promise((resolve) => {\n",
              "      const reader = new FileReader();\n",
              "      reader.onload = (e) => {\n",
              "        resolve(e.target.result);\n",
              "      };\n",
              "      reader.readAsArrayBuffer(file);\n",
              "    });\n",
              "    // Wait for the data to be ready.\n",
              "    let fileData = yield {\n",
              "      promise: fileDataPromise,\n",
              "      response: {\n",
              "        action: 'continue',\n",
              "      }\n",
              "    };\n",
              "\n",
              "    // Use a chunked sending to avoid message size limits. See b/62115660.\n",
              "    let position = 0;\n",
              "    do {\n",
              "      const length = Math.min(fileData.byteLength - position, MAX_PAYLOAD_SIZE);\n",
              "      const chunk = new Uint8Array(fileData, position, length);\n",
              "      position += length;\n",
              "\n",
              "      const base64 = btoa(String.fromCharCode.apply(null, chunk));\n",
              "      yield {\n",
              "        response: {\n",
              "          action: 'append',\n",
              "          file: file.name,\n",
              "          data: base64,\n",
              "        },\n",
              "      };\n",
              "\n",
              "      let percentDone = fileData.byteLength === 0 ?\n",
              "          100 :\n",
              "          Math.round((position / fileData.byteLength) * 100);\n",
              "      percent.textContent = `${percentDone}% done`;\n",
              "\n",
              "    } while (position < fileData.byteLength);\n",
              "  }\n",
              "\n",
              "  // All done.\n",
              "  yield {\n",
              "    response: {\n",
              "      action: 'complete',\n",
              "    }\n",
              "  };\n",
              "}\n",
              "\n",
              "scope.google = scope.google || {};\n",
              "scope.google.colab = scope.google.colab || {};\n",
              "scope.google.colab._files = {\n",
              "  _uploadFiles,\n",
              "  _uploadFilesContinue,\n",
              "};\n",
              "})(self);\n",
              "</script> "
            ]
          },
          "metadata": {}
        },
        {
          "output_type": "stream",
          "name": "stdout",
          "text": [
            "Saving PUC Goiás – Secretaria – IES - Verificação de Conclusão de Curso - História.xlsx to PUC Goiás – Secretaria – IES - Verificação de Conclusão de Curso - História.xlsx\n",
            "\n",
            "Planilha filha 'PUC Goiás – Secretaria – IES - Verificação de Conclusão de Curso - História.xlsx' carregada com sucesso.\n",
            "\n",
            "Números e nomes das colunas na planilha filha:\n",
            "0: RA\n",
            "1: Nome do Estudante\n",
            "2: CPF\n",
            "3: Data de Nascimento\n",
            "4: E-MAIL\n",
            "5: DDD\n",
            "6: Fone\n",
            "7: Curso\n",
            "8: TURNO\n",
            "9: CURRICULO\n",
            "10: Nome do Curso\n",
            "11: Polo\n",
            "12: Nome do Polo\n",
            "13: Forma de Ingresso\n",
            "14: Situação do Aluno\n",
            "15: Bolsa PROUNI\n",
            "16: % de conclusão previsto\n",
            "17: Possivel Formando\n",
            "18: Carga horária Cursada\n",
            "19: Carga horária matriculada\n",
            "20: Carga horária a cursar\n",
            "21: Carga horária Curriculo\n",
            "22: Percentual concluído (%)\n",
            "23: CH de conclusão prevista (carga horária concluída + CH Matriculada)\n",
            "24: CH Atividade Complementar Concluída\n",
            "25: CH Atividade Complementar Pendente\n",
            "26: IRA\n",
            "27: % de conclusão previsto com ATV complementar\n",
            "28: IAA\n",
            "29: Ano de Conclusão\n",
            "30: Semestre de Conclusão\n"
          ]
        }
      ]
    },
    {
      "cell_type": "code",
      "source": [
        "# Solicitar ao usuário o número da coluna que deseja visualizar\n",
        "coluna_num = int(input(\"Digite o número da coluna que você deseja visualizar (baseado na lista acima): \"))\n",
        "\n",
        "# Verificar se o número da coluna é válido\n",
        "if 0 <= coluna_num < len(filha_df.columns):\n",
        "    # Obter o nome da coluna selecionada\n",
        "    coluna_nome = filha_df.columns[coluna_num]\n",
        "\n",
        "    # Exibir os 10 primeiros itens da coluna selecionada\n",
        "    print(f\"\\nExibindo os primeiros 10 itens da coluna '{coluna_nome}':\")\n",
        "    print(filha_df[coluna_nome].head(10))\n",
        "else:\n",
        "    print(\"Número da coluna inválido. Por favor, escolha um número válido.\")"
      ],
      "metadata": {
        "colab": {
          "base_uri": "https://localhost:8080/"
        },
        "id": "RmJnXsJIvBAB",
        "outputId": "f28b4c28-062a-441c-dc6c-7b8f3067ad35"
      },
      "execution_count": null,
      "outputs": [
        {
          "output_type": "stream",
          "name": "stdout",
          "text": [
            "Digite o número da coluna que você deseja visualizar (baseado na lista acima): 2\n",
            "\n",
            "Exibindo os primeiros 10 itens da coluna 'CPF':\n",
            "0     3848631164\n",
            "1    86208578191\n",
            "2    72734280191\n",
            "3    03262424145\n",
            "4    04237244105\n",
            "5    93091060187\n",
            "6    70469848162\n",
            "7    54781728120\n",
            "8    00085041130\n",
            "9    70319516156\n",
            "Name: CPF, dtype: object\n"
          ]
        }
      ]
    },
    {
      "cell_type": "code",
      "source": [
        "# Certifique-se de que as colunas comparadas são do tipo string\n",
        "raiz_df.iloc[:, 0] = raiz_df.iloc[:, 0].astype(str).str.zfill(11)\n",
        "filha_df.iloc[:, 0] = filha_df.iloc[:, 0].astype(str).str.zfill(11)\n",
        "\n",
        "# Renomear as colunas para comparação\n",
        "raiz_df = raiz_df.rename(columns={raiz_df.columns[0]: 'key'})\n",
        "filha_df = filha_df.rename(columns={filha_df.columns[0]: 'key'})\n",
        "\n",
        "# Encontrar as chaves comuns\n",
        "common_keys = set(raiz_df['key']) & set(filha_df['key'])\n",
        "\n",
        "# Filtrar as linhas com chaves comuns\n",
        "raiz_filtered = raiz_df[raiz_df['key'].isin(common_keys)]\n",
        "filha_filtered = filha_df[filha_df['key'].isin(common_keys)]\n",
        "\n",
        "# Mesclar as planilhas com base na coluna de chave\n",
        "merged_df = pd.merge(raiz_filtered, filha_filtered, on='key', how='inner', suffixes=('_raiz', '_filha'))\n",
        "\n",
        "# Exibir o DataFrame resultante - comentado\n",
        "# print(\"Dados combinados com base na primeira coluna:\")\n",
        "# print(merged_df.head(10))  # Exibir os 10 primeiros registros\n",
        "\n",
        "# Salvar o DataFrame resultante em um novo arquivo Excel\n",
        "output_file = '/content/merged_data.xlsx'\n",
        "merged_df.to_excel(output_file, index=False)\n",
        "\n",
        "# Comentado o código de download\n",
        "# from google.colab import files\n",
        "# files.download(output_file)\n",
        "\n",
        "print(f\"\\nDados combinados salvos no arquivo: {output_file}\")"
      ],
      "metadata": {
        "colab": {
          "base_uri": "https://localhost:8080/"
        },
        "id": "75sLZEsg7amO",
        "outputId": "dd99bc47-7cac-48b6-b8db-a3c2742ab711"
      },
      "execution_count": null,
      "outputs": [
        {
          "output_type": "stream",
          "name": "stdout",
          "text": [
            "\n",
            "Dados combinados salvos no arquivo: /content/merged_data.xlsx\n"
          ]
        }
      ]
    },
    {
      "cell_type": "code",
      "source": [
        "# Criar uma lista numérica com os nomes das colunas da planilha 'merged'\n",
        "column_list = list(enumerate(merged_df.columns, start=1))\n",
        "\n",
        "# Imprimir a lista numérica\n",
        "print(\"Lista numérica das colunas da planilha 'merged':\")\n",
        "for idx, col_name in column_list:\n",
        "    print(f\"{idx}: {col_name}\")"
      ],
      "metadata": {
        "colab": {
          "base_uri": "https://localhost:8080/"
        },
        "id": "faPRWD2kA-8g",
        "outputId": "2cc0dc22-962b-400d-e555-a5dc14d5a6bd"
      },
      "execution_count": null,
      "outputs": [
        {
          "output_type": "stream",
          "name": "stdout",
          "text": [
            "Lista numérica das colunas da planilha 'merged':\n",
            "1: key\n",
            "2: NOME_COMPL\n",
            "3: NOME_SOCIAL\n",
            "4: CONCURSO\n",
            "5: CANDIDATO\n",
            "6: CURSO\n",
            "7: NOME_CURSO\n",
            "8: TURNO_raiz\n",
            "9: DESCR_TURNO\n",
            "10: CURRICULO_raiz\n",
            "11: SERIE\n",
            "12: DESCR_SERIE\n",
            "13: UNIDADE_ENSINO\n",
            "14: NOME_UE\n",
            "15: ANOCONCL_2G\n",
            "16: FORMAÇÃO ANTERIOR\n",
            "17: TIPO_INGRESSO\n",
            "18: ANO_INGRESSO\n",
            "19: SEM_INGRESSO\n",
            "20: SITUACAO\n",
            "21: GRUPO\n",
            "22: DT_INGRESSO\n",
            "23: MAILBOX\n",
            "24: E_MAIL\n",
            "25: E_MAIL_INTERNO\n",
            "26: CURSO_ANT\n",
            "27: UNIDADE_FISICA\n",
            "28: PESSOA\n",
            "29: ID_PESSOA\n",
            "30: DATA_NASC\n",
            "31: NACIONALIDADE\n",
            "32: NOME_PAI\n",
            "33: NOME_MAE\n",
            "34: SEXO\n",
            "35: EST_CIVIL\n",
            "36: ENDERECO\n",
            "37: END_NUM\n",
            "38: END_COMPL\n",
            "39: BAIRRO\n",
            "40: MUNICIPIO\n",
            "41: UF_SIGLA\n",
            "42: END_PAIS\n",
            "43: CEP\n",
            "44: DDD_FONE\n",
            "45: TELEFONE\n",
            "46: DDD_FONE_CELULAR\n",
            "47: CELULAR\n",
            "48: RG_NUM\n",
            "49: RG_EMISSOR\n",
            "50: RG_UF\n",
            "51: RG_DTEXP\n",
            "52: CPF_raiz\n",
            "53: NATURALIDADE\n",
            "54: DIVIDA_BIBLIO\n",
            "55: NECESSIDADE_ESPECIAL\n",
            "56: COR_RACA\n",
            "57: IdAlunoAvaliA\n",
            "58: UsuarioCadastroAluno\n",
            "59: Intake\n",
            "60: DataDeMatricula\n",
            "61: CodigoInternoAlunoIES\n",
            "62: PercentualConclusao\n",
            "63: Nome do Estudante\n",
            "64: CPF_filha\n",
            "65: Data de Nascimento\n",
            "66: E-MAIL\n",
            "67: DDD\n",
            "68: Fone\n",
            "69: Curso\n",
            "70: TURNO_filha\n",
            "71: CURRICULO_filha\n",
            "72: Nome do Curso\n",
            "73: Polo\n",
            "74: Nome do Polo\n",
            "75: Forma de Ingresso\n",
            "76: Situação do Aluno\n",
            "77: Bolsa PROUNI\n",
            "78: % de conclusão previsto\n",
            "79: Possivel Formando\n",
            "80: Carga horária Cursada\n",
            "81: Carga horária matriculada\n",
            "82: Carga horária a cursar\n",
            "83: Carga horária Curriculo\n",
            "84: Percentual concluído (%)\n",
            "85: CH de conclusão prevista (carga horária concluída + CH Matriculada)\n",
            "86: CH Atividade Complementar Concluída\n",
            "87: CH Atividade Complementar Pendente\n",
            "88: IRA\n",
            "89: % de conclusão previsto com ATV complementar\n",
            "90: IAA\n",
            "91: Ano de Conclusão\n",
            "92: Semestre de Conclusão\n"
          ]
        }
      ]
    },
    {
      "cell_type": "code",
      "source": [
        "# Filtrar a planilha 'merged_df' de acordo com os critérios fornecidos\n",
        "\n",
        "# 1. Excluir linhas onde a coluna 'key' não começa com '1132024'\n",
        "filtered_df = merged_df[merged_df['key'].astype(str).str.startswith('1132024')]\n",
        "\n",
        "# 2. Excluir linhas onde a coluna 18 contém os valores 'Evadido' ou 'Cancelado'\n",
        "filtered_df = filtered_df[~filtered_df.iloc[:, 17].isin(['Evadido', 'Cancelado'])]\n",
        "\n",
        "# 3. Excluir linhas onde a coluna 89 contém valores maiores ou iguais a 25.0\n",
        "filtered_df = filtered_df[filtered_df.iloc[:, 88].astype(float) < 25.0]\n",
        "\n",
        "# 4. Substituir valores 0 na coluna 15 por 2022\n",
        "filtered_df.iloc[:, 14] = filtered_df.iloc[:, 14].replace(0, 2022)\n",
        "\n",
        "# Salvar o DataFrame atualizado em um novo arquivo Excel\n",
        "output_file_filtered = '/content/merged_filtered.xlsx'\n",
        "filtered_df.to_excel(output_file_filtered, index=False)\n",
        "\n",
        "# Comentado o código de download\n",
        "# from google.colab import files\n",
        "# files.download(output_file_filtered)\n",
        "\n",
        "print(f\"Arquivo atualizado com filtros e substituições salvo como: {output_file_filtered}\")"
      ],
      "metadata": {
        "colab": {
          "base_uri": "https://localhost:8080/"
        },
        "id": "2UKlxbuoDKd3",
        "outputId": "3fb247f5-a969-41d6-9465-1c05bf9a8fb5"
      },
      "execution_count": null,
      "outputs": [
        {
          "output_type": "stream",
          "name": "stdout",
          "text": [
            "Arquivo atualizado com filtros e substituições salvo como: /content/merged_filtered.xlsx\n"
          ]
        }
      ]
    },
    {
      "cell_type": "code",
      "source": [
        "from openpyxl import load_workbook\n",
        "from openpyxl.utils.dataframe import dataframe_to_rows\n",
        "from openpyxl.styles import Alignment\n",
        "\n",
        "# Filtrar as colunas desejadas\n",
        "final_columns = [0, 1, 6, 14, 18, 51, 88]  # Índices correspondentes às colunas 1, 2, 7, 15, 19, 52, 89\n",
        "final_df = filtered_df.iloc[:, final_columns]\n",
        "\n",
        "# Formatar a coluna 89 para ter duas casas decimais\n",
        "final_df.iloc[:, -1] = final_df.iloc[:, -1].astype(float).map('{:.2f}'.format)\n",
        "\n",
        "# Salvar o DataFrame em um arquivo Excel temporário\n",
        "output_file_final = '/content/merged_final.xlsx'\n",
        "final_df.to_excel(output_file_final, index=False)\n",
        "\n",
        "# Abrir o arquivo Excel para aplicar formatações adicionais\n",
        "wb = load_workbook(output_file_final)\n",
        "ws = wb.active\n",
        "\n",
        "# Ajustar a largura das colunas para se adequarem ao conteúdo\n",
        "for column in ws.columns:\n",
        "    max_length = 0\n",
        "    column_letter = column[0].column_letter\n",
        "    for cell in column:\n",
        "        try:\n",
        "            if len(str(cell.value)) > max_length:\n",
        "                max_length = len(str(cell.value))\n",
        "        except:\n",
        "            pass\n",
        "    adjusted_width = (max_length + 2)\n",
        "    ws.column_dimensions[column_letter].width = adjusted_width\n",
        "\n",
        "# Salvar o arquivo com as formatações aplicadas\n",
        "wb.save(output_file_final)\n",
        "\n",
        "print(f\"Arquivo final criado com as colunas desejadas e formatação aplicada: {output_file_final}\")"
      ],
      "metadata": {
        "colab": {
          "base_uri": "https://localhost:8080/"
        },
        "id": "z-BFTrygGOIM",
        "outputId": "c235456c-efd7-4045-ef16-601938a643f9"
      },
      "execution_count": null,
      "outputs": [
        {
          "output_type": "stream",
          "name": "stdout",
          "text": [
            "Arquivo final criado com as colunas desejadas e formatação aplicada: /content/merged_final.xlsx\n"
          ]
        }
      ]
    },
    {
      "cell_type": "code",
      "source": [
        "# Printar uma lista enumerada das colunas da planilha final\n",
        "print(\"Lista das colunas enumeradas da planilha final:\")\n",
        "\n",
        "for idx, col_name in enumerate(final_df.columns):\n",
        "    print(f\"{idx}: {col_name}\")"
      ],
      "metadata": {
        "colab": {
          "base_uri": "https://localhost:8080/"
        },
        "id": "7YQqN3qzIO4-",
        "outputId": "0239849c-1518-403b-f096-2b81ca3072be"
      },
      "execution_count": null,
      "outputs": [
        {
          "output_type": "stream",
          "name": "stdout",
          "text": [
            "Lista das colunas enumeradas da planilha final:\n",
            "0: key\n",
            "1: NOME_COMPL\n",
            "2: NOME_CURSO\n",
            "3: ANOCONCL_2G\n",
            "4: SEM_INGRESSO\n",
            "5: CPF_raiz\n",
            "6: % de conclusão previsto com ATV complementar\n"
          ]
        }
      ]
    },
    {
      "cell_type": "code",
      "source": [
        "def gerar_resultado(final_df):\n",
        "    # Criar o DataFrame com as colunas solicitadas\n",
        "    result_df = pd.DataFrame({\n",
        "        'CO_PROJETO': '2411101',\n",
        "        'TP_ORIGEM': 'E',\n",
        "        'CO_IES': '527',\n",
        "        'CO_CURSO': '1527404',\n",
        "        'NU_CPF': final_df['CPF_raiz'].values,\n",
        "        'NU_ANO_FIM_ENSINO_MEDIO': final_df['ANOCONCL_2G'].values,\n",
        "        'CO_TURNO_GRADUACAO': '4',\n",
        "        'NU_PERCENTUAL_INTEGRALIZACAO': final_df['% de conclusão previsto com ATV complementar'].values,\n",
        "        'NU_ANO_INICIO_GRADUACAO': '2024',\n",
        "        'NU_SEMESTRE_INICIO_GRADUACAO': final_df['SEM_INGRESSO'].values\n",
        "    })\n",
        "\n",
        "    # Gerar o nome do arquivo CSV\n",
        "    nome_curso = final_df['NOME_CURSO'].iloc[0]  # Presume que todos os alunos têm o mesmo curso\n",
        "    output_file = f'resultado_{nome_curso}_2024.csv'\n",
        "\n",
        "    # Gerar o arquivo CSV de resultado com separador ';'\n",
        "    result_df.to_csv(output_file, sep=';', index=False)\n",
        "\n",
        "    # Fazer o download do arquivo\n",
        "    files.download(output_file)\n",
        "\n",
        "    print(f\"O arquivo {output_file} foi gerado e está disponível para download.\")\n",
        "\n",
        "# Chamar a função com a planilha final\n",
        "gerar_resultado(final_df)"
      ],
      "metadata": {
        "colab": {
          "base_uri": "https://localhost:8080/",
          "height": 40
        },
        "id": "EFAmmhxFK2f5",
        "outputId": "b4ade49d-5efe-4d97-f67a-97814cf0296e"
      },
      "execution_count": null,
      "outputs": [
        {
          "output_type": "display_data",
          "data": {
            "text/plain": [
              "<IPython.core.display.Javascript object>"
            ],
            "application/javascript": [
              "\n",
              "    async function download(id, filename, size) {\n",
              "      if (!google.colab.kernel.accessAllowed) {\n",
              "        return;\n",
              "      }\n",
              "      const div = document.createElement('div');\n",
              "      const label = document.createElement('label');\n",
              "      label.textContent = `Downloading \"${filename}\": `;\n",
              "      div.appendChild(label);\n",
              "      const progress = document.createElement('progress');\n",
              "      progress.max = size;\n",
              "      div.appendChild(progress);\n",
              "      document.body.appendChild(div);\n",
              "\n",
              "      const buffers = [];\n",
              "      let downloaded = 0;\n",
              "\n",
              "      const channel = await google.colab.kernel.comms.open(id);\n",
              "      // Send a message to notify the kernel that we're ready.\n",
              "      channel.send({})\n",
              "\n",
              "      for await (const message of channel.messages) {\n",
              "        // Send a message to notify the kernel that we're ready.\n",
              "        channel.send({})\n",
              "        if (message.buffers) {\n",
              "          for (const buffer of message.buffers) {\n",
              "            buffers.push(buffer);\n",
              "            downloaded += buffer.byteLength;\n",
              "            progress.value = downloaded;\n",
              "          }\n",
              "        }\n",
              "      }\n",
              "      const blob = new Blob(buffers, {type: 'application/binary'});\n",
              "      const a = document.createElement('a');\n",
              "      a.href = window.URL.createObjectURL(blob);\n",
              "      a.download = filename;\n",
              "      div.appendChild(a);\n",
              "      a.click();\n",
              "      div.remove();\n",
              "    }\n",
              "  "
            ]
          },
          "metadata": {}
        },
        {
          "output_type": "display_data",
          "data": {
            "text/plain": [
              "<IPython.core.display.Javascript object>"
            ],
            "application/javascript": [
              "download(\"download_64ab5e6f-1006-463a-a1f8-cb44166b2e84\", \"resultado_Hist\\u00f3ria (Licenciatura)_2024.csv\", 1070)"
            ]
          },
          "metadata": {}
        },
        {
          "output_type": "stream",
          "name": "stdout",
          "text": [
            "O arquivo resultado_História (Licenciatura)_2024.csv foi gerado e está disponível para download.\n"
          ]
        }
      ]
    }
  ],
  "metadata": {
    "colab": {
      "provenance": [],
      "include_colab_link": true
    },
    "kernelspec": {
      "display_name": "Python 3",
      "name": "python3"
    },
    "language_info": {
      "name": "python"
    }
  },
  "nbformat": 4,
  "nbformat_minor": 0
}